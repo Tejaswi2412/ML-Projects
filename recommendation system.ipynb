{
 "cells": [
  {
   "cell_type": "code",
   "execution_count": 4,
   "id": "ef3d70dd-347d-4edd-b15a-66a6e3479ad9",
   "metadata": {},
   "outputs": [
    {
     "name": "stdout",
     "output_type": "stream",
     "text": [
      "Defaulting to user installation because normal site-packages is not writeable\n",
      "Collecting scikit-surprise\n",
      "  Using cached scikit_surprise-1.1.4.tar.gz (154 kB)\n",
      "  Installing build dependencies: started\n",
      "  Installing build dependencies: finished with status 'done'\n",
      "  Getting requirements to build wheel: started\n",
      "  Getting requirements to build wheel: finished with status 'done'\n",
      "  Preparing metadata (pyproject.toml): started\n",
      "  Preparing metadata (pyproject.toml): finished with status 'done'\n",
      "Requirement already satisfied: joblib>=1.2.0 in c:\\programdata\\anaconda3\\lib\\site-packages (from scikit-surprise) (1.4.2)\n",
      "Requirement already satisfied: numpy>=1.19.5 in c:\\programdata\\anaconda3\\lib\\site-packages (from scikit-surprise) (1.26.4)\n",
      "Requirement already satisfied: scipy>=1.6.0 in c:\\programdata\\anaconda3\\lib\\site-packages (from scikit-surprise) (1.13.1)\n",
      "Building wheels for collected packages: scikit-surprise\n",
      "  Building wheel for scikit-surprise (pyproject.toml): started\n",
      "  Building wheel for scikit-surprise (pyproject.toml): finished with status 'done'\n",
      "  Created wheel for scikit-surprise: filename=scikit_surprise-1.1.4-cp312-cp312-win_amd64.whl size=1291613 sha256=dad2ecd7f3c3401f529f527790d7a84775784752c843f38459e2db0ab47a2569\n",
      "  Stored in directory: c:\\users\\dell\\appdata\\local\\pip\\cache\\wheels\\75\\fa\\bc\\739bc2cb1fbaab6061854e6cfbb81a0ae52c92a502a7fa454b\n",
      "Successfully built scikit-surprise\n",
      "Installing collected packages: scikit-surprise\n",
      "Successfully installed scikit-surprise-1.1.4\n"
     ]
    }
   ],
   "source": [
    "!pip install scikit-surprise"
   ]
  },
  {
   "cell_type": "code",
   "execution_count": 2,
   "id": "667b058f-f716-45fb-b50f-1dd595d0cc9a",
   "metadata": {},
   "outputs": [],
   "source": [
    "import numpy as np\n",
    "import pandas as pd\n",
    "from surprise import SVD\n",
    "from surprise import Dataset, Reader\n",
    "from surprise.model_selection import cross_validate"
   ]
  },
  {
   "cell_type": "code",
   "execution_count": 3,
   "id": "910a9384-f1a9-4ce3-94df-70c1dc3a082c",
   "metadata": {},
   "outputs": [
    {
     "name": "stderr",
     "output_type": "stream",
     "text": [
      "C:\\Users\\DELL\\AppData\\Local\\Temp\\ipykernel_6196\\739447550.py:4: DtypeWarning: Columns (0,1,2) have mixed types. Specify dtype option on import or set low_memory=False.\n",
      "  ratings_data = pd.read_csv(\"rating.csv\", names=[\"user_id\", \"item_id\", \"rating\", \"timestamp\"])\n"
     ]
    },
    {
     "name": "stdout",
     "output_type": "stream",
     "text": [
      "  user_id  item_id  rating\n",
      "0  userId  movieId  rating\n",
      "1       1        2     3.5\n",
      "2       1       29     3.5\n",
      "3       1       32     3.5\n",
      "4       1       47     3.5\n",
      "user_id    object\n",
      "item_id    object\n",
      "rating     object\n",
      "dtype: object\n"
     ]
    }
   ],
   "source": [
    "#specify correct data types for each column\n",
    "dtype_mapping={\"user_id\":int ,\"item_id\":int ,\"rating\":float, \"timestamp\":str}\n",
    "\n",
    "ratings_data = pd.read_csv(\"rating.csv\", names=[\"user_id\", \"item_id\", \"rating\", \"timestamp\"])\n",
    "\n",
    "# Drop timestamp as it's not needed\n",
    "ratings_data = ratings_data.drop(\"timestamp\", axis=1)\n",
    "\n",
    "# Check data\n",
    "print(ratings_data.head())\n",
    "#check the datatype\n",
    "print(ratings_data.dtypes)"
   ]
  },
  {
   "cell_type": "code",
   "execution_count": 4,
   "id": "35889f9f-a06a-434c-9538-bffa1dceb569",
   "metadata": {},
   "outputs": [
    {
     "name": "stdout",
     "output_type": "stream",
     "text": [
      "user_id      int64\n",
      "item_id      int64\n",
      "rating     float64\n",
      "dtype: object\n"
     ]
    }
   ],
   "source": [
    "ratings_data[\"user_id\"] = pd.to_numeric(ratings_data[\"user_id\"], errors=\"coerce\")\n",
    "ratings_data[\"item_id\"] = pd.to_numeric(ratings_data[\"item_id\"], errors=\"coerce\")\n",
    "ratings_data[\"rating\"] = pd.to_numeric(ratings_data[\"rating\"], errors=\"coerce\")\n",
    "\n",
    "# Drop any rows where conversion failed (NaN values)\n",
    "ratings_data = ratings_data.dropna()\n",
    "\n",
    "# Convert to integers\n",
    "ratings_data[\"user_id\"] = ratings_data[\"user_id\"].astype(np.int64)\n",
    "ratings_data[\"item_id\"] = ratings_data[\"item_id\"].astype(np.int64)\n",
    "ratings_data[\"rating\"] = ratings_data[\"rating\"].astype(float)\n",
    "\n",
    "# Check again\n",
    "print(ratings_data.dtypes)"
   ]
  },
  {
   "cell_type": "code",
   "execution_count": 5,
   "id": "e6f1b5da-e8ed-4aea-aa15-6c38a72a60bd",
   "metadata": {},
   "outputs": [],
   "source": [
    "# Define Reader object with rating scale\n",
    "reader = Reader(rating_scale=(1, 5))\n",
    "\n",
    "# Load data into Surprise dataset\n",
    "data = Dataset.load_from_df(ratings_data[['user_id', 'item_id', 'rating']], reader)"
   ]
  },
  {
   "cell_type": "code",
   "execution_count": null,
   "id": "2af0038f-9cb5-4075-9988-c2dda96e2f19",
   "metadata": {},
   "outputs": [],
   "source": [
    "# Use SVD (Singular Value Decomposition) algorithm\n",
    "svd = SVD()\n",
    "\n",
    "# Perform cross-validation\n",
    "cross_validate(svd, data, cv=5, verbose=True)"
   ]
  },
  {
   "cell_type": "code",
   "execution_count": null,
   "id": "d4566f32-3760-4410-be31-f0f321976b98",
   "metadata": {},
   "outputs": [],
   "source": [
    "# Train the model on full dataset\n",
    "trainset = data.build_full_trainset()\n",
    "svd.fit(trainset)\n",
    "\n",
    "# Predict a rating for a specific user and item\n",
    "user_id = 196\n",
    "item_id = 302\n",
    "pred = svd.predict(uid=user_id, iid=item_id)\n",
    "print(pred.est)  # Estimated rating"
   ]
  },
  {
   "cell_type": "code",
   "execution_count": null,
   "id": "2c9acf52-f84f-44c0-91be-0f73abf39500",
   "metadata": {},
   "outputs": [],
   "source": [
    "# Get all unique items\n",
    "all_items = ratings_data['item_id'].unique()\n",
    "\n",
    "# Get already rated movies\n",
    "rated_items = ratings_data[ratings_data['user_id'] == user_id]['item_id'].values\n",
    "\n",
    "# Predict ratings for unrated items\n",
    "predictions = [(iid, svd.predict(uid=user_id, iid=iid).est) for iid in all_items if iid not in rated_items]\n",
    "\n",
    "# Sort predictions by rating\n",
    "top_recommendations = sorted(predictions, key=lambda x: x[1], reverse=True)[:5]\n",
    "\n",
    "print(\"Top 5 Recommended Movies for User\", user_id, \":\", top_recommendations)\n"
   ]
  },
  {
   "cell_type": "code",
   "execution_count": null,
   "id": "ef77ddc3-da27-4192-8047-b4ba5076db0c",
   "metadata": {},
   "outputs": [],
   "source": []
  },
  {
   "cell_type": "code",
   "execution_count": null,
   "id": "74c05a78-e194-4a66-9afb-65dcb04ad6c4",
   "metadata": {},
   "outputs": [],
   "source": []
  },
  {
   "cell_type": "code",
   "execution_count": null,
   "id": "ae47fa9d-69dd-491a-834a-7b71da78ab9c",
   "metadata": {},
   "outputs": [],
   "source": []
  },
  {
   "cell_type": "code",
   "execution_count": null,
   "id": "84ef2269-d545-4fc4-9825-f6caaed6652f",
   "metadata": {},
   "outputs": [],
   "source": []
  }
 ],
 "metadata": {
  "kernelspec": {
   "display_name": "Python 3 (ipykernel)",
   "language": "python",
   "name": "python3"
  },
  "language_info": {
   "codemirror_mode": {
    "name": "ipython",
    "version": 3
   },
   "file_extension": ".py",
   "mimetype": "text/x-python",
   "name": "python",
   "nbconvert_exporter": "python",
   "pygments_lexer": "ipython3",
   "version": "3.12.3"
  }
 },
 "nbformat": 4,
 "nbformat_minor": 5
}
